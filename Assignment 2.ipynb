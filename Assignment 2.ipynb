{
 "cells": [
  {
   "cell_type": "markdown",
   "id": "8a00ea3e-7848-4e41-b820-75249743fbc2",
   "metadata": {},
   "source": [
    "Q-1] What are the values of the Boolean data type? How do you write them?"
   ]
  },
  {
   "cell_type": "markdown",
   "id": "d106fc7e-9f74-4967-bfdc-438f3bd5fe50",
   "metadata": {},
   "source": [
    "Ans:- True or False, using capital T and F, with the rest of the word in lowercase."
   ]
  },
  {
   "cell_type": "markdown",
   "id": "fecd2de0-9af3-49bd-b7ce-17bc818f7cf2",
   "metadata": {},
   "source": [
    "Q-2]What are the three different types of Boolean operators?"
   ]
  },
  {
   "cell_type": "markdown",
   "id": "fe3a3a23-503c-402b-b5a9-51dfaef04c92",
   "metadata": {},
   "source": [
    "Ans:- and, or , and not"
   ]
  },
  {
   "cell_type": "markdown",
   "id": "ac95b2a3-f0b9-4fc0-9218-c3b2269c8430",
   "metadata": {},
   "source": [
    "Q-3] Make a list of each Boolean operator's truth tables( i.e. every possible combination of Boolean values for the operator and what it evaluate.)"
   ]
  },
  {
   "cell_type": "markdown",
   "id": "02afcf73-ce7b-499f-9daa-0e14541dfafb",
   "metadata": {},
   "source": [
    "Ans:- True and True is True    \n",
    "    True and False is False    \n",
    "    False and True is False    \n",
    "    False and False is False     \n",
    "    True or True is True     \n",
    "    True or False is True   \n",
    "    False or True is True     \n",
    "    False or False is False   \n",
    "    not True is False    \n",
    "    not False is True   "
   ]
  },
  {
   "cell_type": "markdown",
   "id": "0206f65a-a806-411a-a81a-22ee26d37088",
   "metadata": {},
   "source": [
    "Q-4] What are the values of the following expressions?       \n",
    "    (5>4) and (3 == 5),not (5>4), (5>4) or (3 == 5),not ((5>4) or (3 == 5)),(True and True) and (True == False),(not False) or (not True)  "
   ]
  },
  {
   "cell_type": "markdown",
   "id": "dc62b4db-2548-49f2-b362-6401a47569d4",
   "metadata": {},
   "source": [
    "Ans:-False,   False,    True,    False,    False,    True"
   ]
  },
  {
   "cell_type": "markdown",
   "id": "ef10966f-b852-4aed-8aa5-feb0af320fed",
   "metadata": {},
   "source": [
    "Q-5] What are the six comparison operators? "
   ]
  },
  {
   "cell_type": "markdown",
   "id": "5a99a76e-63aa-4904-b83b-9864a47ffc88",
   "metadata": {},
   "source": [
    "Ans:- ==, !=, <, >, <=, and >=."
   ]
  },
  {
   "cell_type": "markdown",
   "id": "1e4fc23f-5e53-4a9f-8840-423e29b625f5",
   "metadata": {},
   "source": [
    "Q-6] How do you tell the difference between the equal to and assignment operators? Describe a condition and when you would use one."
   ]
  },
  {
   "cell_type": "markdown",
   "id": "6f2953a2-a0c5-43d8-ae76-26d51dbe26bc",
   "metadata": {},
   "source": [
    "Ans:- == is the equal to operator that compares two values and evaluates to a Boolean, while  = is the assignment operator that stores a value in a variable."
   ]
  },
  {
   "cell_type": "markdown",
   "id": "942256c2-87ef-44c8-a709-f4e141e492f0",
   "metadata": {},
   "source": [
    "Q-7] identify the three blocks in this code:      spam = 0  if spam ==10;  print('eggs') if spam >5: print('bacon') else : print('ham') print('spam') print('spam')\n",
    "\n"
   ]
  },
  {
   "cell_type": "markdown",
   "id": "c0b0c7dd-6365-410f-a095-68c44bf3f0e3",
   "metadata": {},
   "source": [
    "Ans:- A condition is an expression used in a flow control statement that evaluates to a Boolean value.\n",
    "    Three blocks are everything inside the if statement and the lines print('bacon') and print('ham')."
   ]
  },
  {
   "cell_type": "markdown",
   "id": "ac569ac6-6c37-4097-ae27-d8a4e574a0f5",
   "metadata": {},
   "source": [
    "Q-8]Write code that prints Hello if 1 is stored in spam, prints howdy if 2 is stored in spam, and prints Greetings! if anything else is stored in spam."
   ]
  },
  {
   "cell_type": "markdown",
   "id": "b4eb7b9c-b34a-4150-b6e9-0c4a34aca1d9",
   "metadata": {},
   "source": [
    "Ans:- the code:"
   ]
  },
  {
   "cell_type": "code",
   "execution_count": 1,
   "id": "4790d6b3-5fe7-4d77-a0bf-0c310e5430f3",
   "metadata": {},
   "outputs": [
    {
     "name": "stdin",
     "output_type": "stream",
     "text": [
      "Enter choice:- 1\n"
     ]
    },
    {
     "name": "stdout",
     "output_type": "stream",
     "text": [
      "Hello\n"
     ]
    }
   ],
   "source": [
    "spam = int(input('Enter choice:-'))\n",
    "if spam == 1:\n",
    "    print('Hello')\n",
    "elif spam == 2:\n",
    "    print('Howdy')\n",
    "else:\n",
    "    print('Greetings!')"
   ]
  },
  {
   "cell_type": "markdown",
   "id": "6ddd2a24-3845-4c09-803b-418784c6dc3f",
   "metadata": {},
   "source": [
    "Q-9] If your programme is stuck in an endless loop, what keys you'll press?"
   ]
  },
  {
   "cell_type": "raw",
   "id": "265f1de9-a4c3-4634-a1c7-d5a28593269b",
   "metadata": {},
   "source": [
    "Ans:-Press CTRL+C to stop a program stuck in an infinite loop"
   ]
  },
  {
   "cell_type": "markdown",
   "id": "f75f76f6-e588-4f4e-a4f6-b06779705e66",
   "metadata": {},
   "source": [
    "Q-10]How can you tell the difference between break and continue?"
   ]
  },
  {
   "cell_type": "markdown",
   "id": "f418218b-7bc3-4059-87ee-f8a922b0b956",
   "metadata": {},
   "source": [
    "Ans:- The break Statement will move the execution outside and just after a loop. The continue statement will move the execution to the start of the loop."
   ]
  },
  {
   "cell_type": "markdown",
   "id": "a0baf9b9-4600-4e82-aa40-4b16d9bcebec",
   "metadata": {},
   "source": [
    "Q-11]In a for loop, what is the difference between range(10), range(0,10) and range(0,10,1)?"
   ]
  },
  {
   "cell_type": "markdown",
   "id": "4d1434d0-b978-46c2-b3ba-7ec2325c8bcf",
   "metadata": {},
   "source": [
    "Ans:-They all do the same thing. The range(10) call ranges from 0 up to (but not including) 10, range(0,10) explicitly tells the loop to start at 0, and range(0,10,1) explicitly tells the loop to increase the variable by 1 on each iteration."
   ]
  },
  {
   "cell_type": "markdown",
   "id": "a7657c41-c022-4f83-8b91-2741f50721a4",
   "metadata": {},
   "source": [
    "Q-12] Write a short program that prints the number 1 to 10 using a for loop. Then write an equivalent program that prints the numbers 1 to 10 using a while loop."
   ]
  },
  {
   "cell_type": "markdown",
   "id": "4704151c-a0c0-4625-8c02-616c7928fdd3",
   "metadata": {},
   "source": [
    "Ans:- The code"
   ]
  },
  {
   "cell_type": "code",
   "execution_count": 9,
   "id": "a4093d49-5402-471d-8df6-a779b31d2897",
   "metadata": {},
   "outputs": [
    {
     "name": "stdout",
     "output_type": "stream",
     "text": [
      "1\n",
      "2\n",
      "3\n",
      "4\n",
      "5\n",
      "6\n",
      "7\n",
      "8\n",
      "9\n",
      "10\n"
     ]
    }
   ],
   "source": [
    "\n",
    "for i in range(10):\n",
    "    i += 1\n",
    "    print(i)"
   ]
  },
  {
   "cell_type": "code",
   "execution_count": 12,
   "id": "7a868a0d-d7eb-44fd-aa3f-d1e5f1bee063",
   "metadata": {},
   "outputs": [
    {
     "name": "stdout",
     "output_type": "stream",
     "text": [
      "1\n",
      "2\n",
      "3\n",
      "4\n",
      "5\n",
      "6\n",
      "7\n",
      "8\n",
      "9\n",
      "10\n"
     ]
    }
   ],
   "source": [
    "i=0\n",
    "while i < 10:\n",
    "    i +=1\n",
    "    print(i)\n",
    "    "
   ]
  },
  {
   "cell_type": "markdown",
   "id": "16c2518a-de13-4096-931e-5694c6fccead",
   "metadata": {},
   "source": [
    "Q-13] If you had a function named bacon() inside a module named spam, how would you call it after importing spam?"
   ]
  },
  {
   "cell_type": "markdown",
   "id": "cb8c84d8-add1-45fb-8b8d-e56591041a95",
   "metadata": {},
   "source": [
    "Ans:- This function can be called with spam.bacon()."
   ]
  },
  {
   "cell_type": "code",
   "execution_count": null,
   "id": "7e49139d-f73c-4ff4-bdc6-7aba77250606",
   "metadata": {},
   "outputs": [],
   "source": []
  }
 ],
 "metadata": {
  "kernelspec": {
   "display_name": "Python 3 (ipykernel)",
   "language": "python",
   "name": "python3"
  },
  "language_info": {
   "codemirror_mode": {
    "name": "ipython",
    "version": 3
   },
   "file_extension": ".py",
   "mimetype": "text/x-python",
   "name": "python",
   "nbconvert_exporter": "python",
   "pygments_lexer": "ipython3",
   "version": "3.10.6"
  }
 },
 "nbformat": 4,
 "nbformat_minor": 5
}
